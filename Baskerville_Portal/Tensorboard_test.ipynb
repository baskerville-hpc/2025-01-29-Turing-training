{
 "cells": [
  {
   "cell_type": "markdown",
   "id": "56fffec6-ab57-4819-b083-1e2c4d36e637",
   "metadata": {},
   "source": [
    "# Tensorboard Example"
   ]
  },
  {
   "cell_type": "code",
   "execution_count": null,
   "id": "1bd3397f-ea49-4074-8f8c-57325352d8c4",
   "metadata": {},
   "outputs": [],
   "source": [
    "import tensorflow as tf"
   ]
  },
  {
   "cell_type": "code",
   "execution_count": null,
   "id": "a1900706-b623-41df-9feb-2f815a3101a2",
   "metadata": {},
   "outputs": [],
   "source": [
    "mnist = tf.keras.datasets.mnist\n",
    "(X_train, y_train), (X_test, y_test) = mnist.load_data()\n",
    "X_train, X_test = X_train / 255.0, X_test / 255.0"
   ]
  },
  {
   "cell_type": "code",
   "execution_count": null,
   "id": "abf19234-4c8e-485e-84ad-e4adb93fc808",
   "metadata": {},
   "outputs": [],
   "source": [
    "model = tf.keras.models.Sequential([\n",
    "   tf.keras.layers.Flatten(input_shape=(28, 28)),\n",
    "   tf.keras.layers.Dense(512, activation='relu'),\n",
    "   tf.keras.layers.Dropout(0.2),\n",
    "   tf.keras.layers.Dense(10, activation='softmax')])"
   ]
  },
  {
   "cell_type": "code",
   "execution_count": null,
   "id": "f7ad6404-7c67-433f-8a01-ddb42cd50967",
   "metadata": {},
   "outputs": [],
   "source": [
    "model.compile(optimizer='sgd',\n",
    "   loss='sparse_categorical_crossentropy',\n",
    "   metrics=['accuracy'])"
   ]
  },
  {
   "cell_type": "code",
   "execution_count": null,
   "id": "9665483a-b2d4-4541-9f0c-405299a5a55b",
   "metadata": {},
   "outputs": [],
   "source": [
    "#%load_ext tensorboard\n",
    "log_folder = 'logs'"
   ]
  },
  {
   "cell_type": "code",
   "execution_count": null,
   "id": "79be3a86-943d-4c44-a8fb-05b094d8c1ef",
   "metadata": {},
   "outputs": [],
   "source": [
    "from tensorflow.keras.callbacks import TensorBoard"
   ]
  },
  {
   "cell_type": "code",
   "execution_count": null,
   "id": "2aea95d4-db43-42c0-a511-2c9686ea5882",
   "metadata": {},
   "outputs": [],
   "source": [
    "callbacks = [TensorBoard(log_dir=log_folder,\n",
    "                         histogram_freq=1,\n",
    "                         write_graph=True,\n",
    "                         write_images=True,\n",
    "                         update_freq='epoch',\n",
    "                         profile_batch=2,\n",
    "                         embeddings_freq=1)]"
   ]
  },
  {
   "cell_type": "code",
   "execution_count": null,
   "id": "d2f82340-9805-418c-904b-4f8bf8f6a7a6",
   "metadata": {},
   "outputs": [],
   "source": [
    "model.fit(X_train, y_train,\n",
    "          epochs=10,\n",
    "          validation_split=0.2,\n",
    "          callbacks=callbacks)"
   ]
  },
  {
   "cell_type": "markdown",
   "id": "e5abe163-e2e1-4cf0-b6bf-811b491a13b2",
   "metadata": {},
   "source": []
  }
 ],
 "metadata": {
  "kernelspec": {
   "display_name": "Python",
   "language": "python",
   "name": "sys_python"
  },
  "language_info": {
   "codemirror_mode": {
    "name": "ipython",
    "version": 3
   },
   "file_extension": ".py",
   "mimetype": "text/x-python",
   "name": "python",
   "nbconvert_exporter": "python",
   "pygments_lexer": "ipython3",
   "version": "3.11.3"
  }
 },
 "nbformat": 4,
 "nbformat_minor": 5
}
